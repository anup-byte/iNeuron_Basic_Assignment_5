{
 "cells": [
  {
   "cell_type": "markdown",
   "metadata": {},
   "source": [
    "Q1. What does an empty dictionary's code look like?"
   ]
  },
  {
   "cell_type": "code",
   "execution_count": 1,
   "metadata": {},
   "outputs": [
    {
     "data": {
      "text/plain": [
       "dict"
      ]
     },
     "execution_count": 1,
     "metadata": {},
     "output_type": "execute_result"
    }
   ],
   "source": [
    "dict = {}\n",
    "type(dict)"
   ]
  },
  {
   "cell_type": "markdown",
   "metadata": {},
   "source": [
    "Q2. What is the value of a dictionary value with the key 'foo' and the value 42?"
   ]
  },
  {
   "cell_type": "code",
   "execution_count": 2,
   "metadata": {},
   "outputs": [],
   "source": [
    "dict1 = {'foo':42}"
   ]
  },
  {
   "cell_type": "markdown",
   "metadata": {},
   "source": [
    "Q3. What is the most significant distinction between a dictionary and a list?\n",
    "\n",
    "Ans:The list is a mutable data type .\n",
    "    A list is enclosed within the square brackets [ ].\n",
    "    It has a proper way of indexing.\n",
    "    Eg [1,2,3,45,88,0]\n",
    "\n",
    "\n",
    "    Dictionary is a mutable data type, but keys are to be of immutable type and values can be of any type.\n",
    "    It is enclosed within the curly bracket { }.\n",
    "    It is a combination of keys and values.\n",
    "    Here, its keys serve as its index values.\n",
    "    Eg {1:'a’ ,2:'b’}"
   ]
  },
  {
   "cell_type": "markdown",
   "metadata": {},
   "source": [
    "Q4. What happens if you try to access spam['foo'] if spam is {'bar':100}?"
   ]
  },
  {
   "cell_type": "code",
   "execution_count": 3,
   "metadata": {},
   "outputs": [
    {
     "ename": "KeyError",
     "evalue": "'foo'",
     "output_type": "error",
     "traceback": [
      "\u001b[0;31m---------------------------------------------------------------------------\u001b[0m",
      "\u001b[0;31mKeyError\u001b[0m                                  Traceback (most recent call last)",
      "\u001b[0;32m<ipython-input-3-4094ed60376e>\u001b[0m in \u001b[0;36m<module>\u001b[0;34m\u001b[0m\n\u001b[1;32m      1\u001b[0m \u001b[0mspam\u001b[0m \u001b[0;34m=\u001b[0m \u001b[0;34m{\u001b[0m\u001b[0;34m'bar'\u001b[0m \u001b[0;34m:\u001b[0m \u001b[0;36m100\u001b[0m\u001b[0;34m}\u001b[0m\u001b[0;34m\u001b[0m\u001b[0;34m\u001b[0m\u001b[0m\n\u001b[0;32m----> 2\u001b[0;31m \u001b[0mspam\u001b[0m\u001b[0;34m[\u001b[0m\u001b[0;34m'foo'\u001b[0m\u001b[0;34m]\u001b[0m\u001b[0;34m\u001b[0m\u001b[0;34m\u001b[0m\u001b[0m\n\u001b[0m",
      "\u001b[0;31mKeyError\u001b[0m: 'foo'"
     ]
    }
   ],
   "source": [
    "spam = {'bar' : 100}\n",
    "spam['foo']"
   ]
  },
  {
   "cell_type": "markdown",
   "metadata": {},
   "source": [
    "Q5. If a dictionary is stored in spam, what is the difference between the expressions 'cat' in spam and 'cat'\n",
    "in spam.keys()?"
   ]
  },
  {
   "cell_type": "code",
   "execution_count": 4,
   "metadata": {},
   "outputs": [
    {
     "data": {
      "text/plain": [
       "True"
      ]
     },
     "execution_count": 4,
     "metadata": {},
     "output_type": "execute_result"
    }
   ],
   "source": [
    "spam = {'cat' : 10}\n",
    "'cat' in spam"
   ]
  },
  {
   "cell_type": "code",
   "execution_count": 5,
   "metadata": {},
   "outputs": [
    {
     "data": {
      "text/plain": [
       "True"
      ]
     },
     "execution_count": 5,
     "metadata": {},
     "output_type": "execute_result"
    }
   ],
   "source": [
    "'cat' in spam.keys()\n",
    "#There is no difference, both check if 'cat' is key of the dictionary and if its a key, returns True."
   ]
  },
  {
   "cell_type": "markdown",
   "metadata": {},
   "source": [
    "Q6. If a dictionary is stored in spam, what is the difference between the expressions 'cat' in spam and\n",
    "'cat' in spam.values()?"
   ]
  },
  {
   "cell_type": "code",
   "execution_count": 6,
   "metadata": {},
   "outputs": [
    {
     "data": {
      "text/plain": [
       "True"
      ]
     },
     "execution_count": 6,
     "metadata": {},
     "output_type": "execute_result"
    }
   ],
   "source": [
    "spam ={'cat':100}\n",
    "'cat' in spam"
   ]
  },
  {
   "cell_type": "code",
   "execution_count": 7,
   "metadata": {},
   "outputs": [
    {
     "data": {
      "text/plain": [
       "False"
      ]
     },
     "execution_count": 7,
     "metadata": {},
     "output_type": "execute_result"
    }
   ],
   "source": [
    "spam ={'cat':100}\n",
    "'cat' in spam.values()\n",
    "\n",
    "#'cat' in spam checks whether there is a 'cat' key in the dictionary\n",
    "#'cat' in spam.values() checks whether there is a value 'cat' for one of the keys in spam."
   ]
  },
  {
   "cell_type": "markdown",
   "metadata": {},
   "source": [
    "Q7. What is a shortcut for the following code?\n",
    "if 'color' not in spam:\n",
    "spam['color'] = 'black'"
   ]
  },
  {
   "cell_type": "code",
   "execution_count": 8,
   "metadata": {},
   "outputs": [
    {
     "data": {
      "text/plain": [
       "{'cat': 100, 'color': 'black'}"
      ]
     },
     "execution_count": 8,
     "metadata": {},
     "output_type": "execute_result"
    }
   ],
   "source": [
    "spam ={'cat':100}\n",
    "spam.setdefault('color','black')\n",
    "spam"
   ]
  },
  {
   "cell_type": "markdown",
   "metadata": {},
   "source": [
    "Q8.  How do you \"pretty print\" dictionary values using which module and function?\n",
    "\n",
    "Ans: Python comes with a built-in library called pprint, which stands for pretty-print. Using this library, we        can print out more nicely formatted data structures, including dictionaries.\n",
    "\n",
    "     The pprint library allows us to specify a number of different parameters, including the following:\n",
    "\n",
    "     indent: the number of spaces to indent each line, where the default value is 1\n",
    "\n",
    "     width: the maximum characters that are allowed on a single line, where the default is None (meaning, the        maximum)\n",
    "\n",
    "     depth: the number of levels to show while using nested data types, where the default is None (meaning that      all levels of depth are shown)\n",
    "\n",
    "     stream: used to specify an output stream and can be used to save to a file\n",
    "\n",
    "     compact: If set to True, the values will be printed on single lines, to a certain width\n",
    "\n",
    "     sort_dicts: if True, it prints the key-value pairs according to an alphabetical order of the keys. Defaults      to True"
   ]
  },
  {
   "cell_type": "code",
   "execution_count": 9,
   "metadata": {},
   "outputs": [
    {
     "name": "stdout",
     "output_type": "stream",
     "text": [
      "{'age': 31,\n",
      " 'books': ['Harry Potter', 'Lord of the Rings'],\n",
      " 'gender': 'male',\n",
      " 'name': 'Nik'}\n"
     ]
    }
   ],
   "source": [
    "# Pretty Print a Dictionary using pprint\n",
    "import pprint\n",
    "\n",
    "sample_dict = {'name': 'Nik', 'age': 31, 'gender': 'male', 'books': ['Harry Potter', 'Lord of the Rings']}\n",
    "pprint.pprint(sample_dict)"
   ]
  },
  {
   "cell_type": "markdown",
   "metadata": {},
   "source": [
    "Python dictionaries carry a lot of similar characteristics with JSON objects. Because of this, we can use the \n",
    "JSON library to return a formatted JSON string.\n",
    "\n",
    "Built into the json library is a function called .dumps(), which dumps a string object. Let’s take a look at \n",
    "what the .dumps() function looks like and what parameters it takes:\n",
    "\n",
    "sort_keys which sorts a dictionary’s keys and defaults to False\n",
    "\n",
    "indent: which lets Python know how many spaces to indent levels by"
   ]
  },
  {
   "cell_type": "code",
   "execution_count": 10,
   "metadata": {},
   "outputs": [
    {
     "name": "stdout",
     "output_type": "stream",
     "text": [
      "{\n",
      "    \"Nik\": {\n",
      "        \"age\": 31,\n",
      "        \"gender\": \"male\",\n",
      "        \"books\": [\n",
      "            \"Harry Potter\",\n",
      "            \"Lord of the Rings\"\n",
      "        ]\n",
      "    },\n",
      "    \"Joe\": {\n",
      "        \"age\": 40,\n",
      "        \"gender\": \"male\",\n",
      "        \"books\": [\n",
      "            \"Lord of the Flies\"\n",
      "        ]\n",
      "    }\n",
      "}\n"
     ]
    }
   ],
   "source": [
    "# Pretty Print a Dictionary using json\n",
    "import json\n",
    "\n",
    "sample_dict = {'Nik':{'age': 31, 'gender': 'male', 'books': ['Harry Potter', 'Lord of the Rings']}, \n",
    "               'Joe': {'age': 40, 'gender': 'male', 'books':['Lord of the Flies']}}\n",
    "\n",
    "pretty = json.dumps(sample_dict, indent=4)\n",
    "\n",
    "print(pretty)"
   ]
  },
  {
   "cell_type": "markdown",
   "metadata": {},
   "source": [
    "We can see this returns a very similar printed dictionary, with a key difference: the list is also\n",
    "printed on seperate lines, making it easier to read. This, of course, is a much prettier way to print \n",
    "dictionaries."
   ]
  },
  {
   "cell_type": "markdown",
   "metadata": {},
   "source": [
    "In many cases, dictionaries will be complex. We may even encounter dictionaries that contain other \n",
    "dictionaries. For example, we may have a dictionary that contains information on different people. Each key of \n",
    "the top-level dictionary will represent a person’s name and the value will be a different dictionary that will \n",
    "describe key attributes of a person.\n",
    "\n",
    "Because of the complexity of dictionaries we may encounter, to better understand their structure, you may wish \n",
    "to print them out a way that more appropriately describes their structure.\n",
    "\n",
    "Using the json library, this is actually very easy! It actually works in the same way as printing a normal \n",
    "dictionary. Let’s take a look:"
   ]
  },
  {
   "cell_type": "code",
   "execution_count": 11,
   "metadata": {},
   "outputs": [
    {
     "name": "stdout",
     "output_type": "stream",
     "text": [
      "{\n",
      "    \"Joe\": {\n",
      "        \"age\": 40,\n",
      "        \"books\": [\n",
      "            \"Lord of the Flies\"\n",
      "        ],\n",
      "        \"gender\": \"male\"\n",
      "    },\n",
      "    \"Nik\": {\n",
      "        \"age\": 31,\n",
      "        \"books\": [\n",
      "            \"Harry Potter\",\n",
      "            \"Lord of the Rings\"\n",
      "        ],\n",
      "        \"gender\": \"male\"\n",
      "    }\n",
      "}\n"
     ]
    }
   ],
   "source": [
    "# Pretty Print a Nested Dictionary using json\n",
    "import json\n",
    "\n",
    "sample_dict = {'Nik':{'age': 31, 'gender': 'male', 'books': ['Harry Potter', 'Lord of the Rings']}, \n",
    "               'Joe': {'age': 40, 'gender': 'male', 'books':['Lord of the Flies']}}\n",
    "\n",
    "pretty = json.dumps(sample_dict, indent=4, sort_keys=True)\n",
    "\n",
    "print(pretty)"
   ]
  }
 ],
 "metadata": {
  "kernelspec": {
   "display_name": "Python 3",
   "language": "python",
   "name": "python3"
  },
  "language_info": {
   "codemirror_mode": {
    "name": "ipython",
    "version": 3
   },
   "file_extension": ".py",
   "mimetype": "text/x-python",
   "name": "python",
   "nbconvert_exporter": "python",
   "pygments_lexer": "ipython3",
   "version": "3.8.5"
  }
 },
 "nbformat": 4,
 "nbformat_minor": 4
}
